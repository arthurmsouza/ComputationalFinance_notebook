{
 "cells": [
  {
   "cell_type": "code",
   "execution_count": 15,
   "metadata": {
    "collapsed": true
   },
   "outputs": [],
   "source": [
    "from scipy.stats import norm\n",
    "import numpy as np\n",
    "import matplotlib.pyplot as plt"
   ]
  },
  {
   "cell_type": "markdown",
   "metadata": {
    "collapsed": true
   },
   "source": [
    "# Compute probabilities"
   ]
  },
  {
   "cell_type": "code",
   "execution_count": 5,
   "metadata": {},
   "outputs": [
    {
     "name": "stdout",
     "output_type": "stream",
     "text": [
      "Pr(X > 0.10):  0.308537538726\n",
      "Pr(X < -0.10):  0.0668072012689\n",
      "Pr(-0.05 < X < 0.15):  0.682689492137\n"
     ]
    }
   ],
   "source": [
    "# X ~ N(0.05, (0.10)^2)\n",
    "mu_x = 0.05\n",
    "sigma_x = 0.1\n",
    "\n",
    "# Pr(X > 0.10)\n",
    "ans = 1-norm.cdf(0.1, mu_x, sigma_x)\n",
    "print(\"Pr(X > 0.10): \", ans)\n",
    "\n",
    "# Pr(X < -0.10)\n",
    "ans=norm.cdf(-0.1, mu_x, sigma_x)\n",
    "print(\"Pr(X < -0.10): \", ans)\n",
    "\n",
    "# Pr(-0.05 < X < 0.15)\n",
    "ans=norm.cdf(0.15, mu_x, sigma_x)-norm.cdf(-0.05, mu_x, sigma_x)\n",
    "print(\"Pr(-0.05 < X < 0.15): \", ans)"
   ]
  },
  {
   "cell_type": "markdown",
   "metadata": {
    "collapsed": true
   },
   "source": [
    "# Compute quantiles"
   ]
  },
  {
   "cell_type": "code",
   "execution_count": 8,
   "metadata": {},
   "outputs": [
    {
     "data": {
      "text/plain": [
       "(-0.18263478740408406,\n",
       " -0.11448536269514729,\n",
       " 0.21448536269514723,\n",
       " 0.2826347874040841)"
      ]
     },
     "execution_count": 8,
     "metadata": {},
     "output_type": "execute_result"
    }
   ],
   "source": [
    "(norm.ppf(0.01, mu_x, sigma_x), norm.ppf(0.05, mu_x, sigma_x), norm.ppf(0.95, mu_x, sigma_x), norm.ppf(0.99, mu_x, sigma_x))"
   ]
  },
  {
   "cell_type": "markdown",
   "metadata": {
    "collapsed": true
   },
   "source": [
    "# Compute densities"
   ]
  },
  {
   "cell_type": "code",
   "execution_count": 23,
   "metadata": {
    "collapsed": true
   },
   "outputs": [],
   "source": [
    "x_vals = np.linspace(-0.25, 0.35, 100)\n",
    "MSFT = norm.pdf(x_vals, 0.05, 0.1)\n",
    "SBUX = norm.pdf(x_vals, 0.025, 0.05)"
   ]
  },
  {
   "cell_type": "markdown",
   "metadata": {
    "collapsed": true
   },
   "source": [
    "# Plot normal curve"
   ]
  },
  {
   "cell_type": "code",
   "execution_count": 30,
   "metadata": {},
   "outputs": [
    {
     "data": {
      "image/png": "[encoded data removed]",
      "text/plain": [
       "<matplotlib.figure.Figure at 0x7f9542f77400>"
      ]
     },
     "metadata": {},
     "output_type": "display_data"
    }
   ],
   "source": [
    "%matplotlib inline\n",
    "fig, ax = plt.subplots(1, 1)\n",
    "ax.plot(x_vals, MSFT, c='b')\n",
    "ax.set_ylim(0, 8)\n",
    "ax.ylabel='Normal curves'\n"
   ]
  },
  {
   "cell_type": "markdown",
   "metadata": {
    "collapsed": true
   },
   "source": [
    "# Add second normal curve"
   ]
  },
  {
   "cell_type": "code",
   "execution_count": 38,
   "metadata": {},
   "outputs": [
    {
     "data": {
      "text/plain": [
       "<matplotlib.legend.Legend at 0x7f9542faba90>"
      ]
     },
     "execution_count": 38,
     "metadata": {},
     "output_type": "execute_result"
    },
    {
     "data": {
      "image/png": "[encoded data removed]",
      "text/plain": [
       "<matplotlib.figure.Figure at 0x7f95430e9b38>"
      ]
     },
     "metadata": {},
     "output_type": "display_data"
    }
   ],
   "source": [
    "%matplotlib inline\n",
    "fig, ax = plt.subplots(1, 1)\n",
    "line1, = ax.plot(x_vals, MSFT, c='b', label='Microsoft')\n",
    "line2, = ax.plot(x_vals, SBUX, c='r', label='Starbucks')\n",
    "ax.set_ylim(0, 8)\n",
    "ax.ylabel='Normal curves'\n",
    "ax.legend(handles=[line1, line2])\n"
   ]
  },
  {
   "cell_type": "markdown",
   "metadata": {
    "collapsed": true
   },
   "source": [
    "# Determine the value-at-risk of simple monthly returns"
   ]
  },
  {
   "cell_type": "code",
   "execution_count": 41,
   "metadata": {},
   "outputs": [
    {
     "name": "stdout",
     "output_type": "stream",
     "text": [
      "The 1% value-at-risk:  -16937.1308664\n",
      "The 5% value-at-risk:  -10803.6826426\n"
     ]
    }
   ],
   "source": [
    "# R ~ N(0.04, (0.09)^2) \n",
    "mu_R = 0.04\n",
    "sigma_R = 0.09\n",
    "# Initial wealth W0 = $100,000\n",
    "W0 = 100000\n",
    "# The 1% value-at-risk\n",
    "ans = W0*norm.ppf(0.01, mu_R, sigma_R)\n",
    "print(\"The 1% value-at-risk: \", ans)\n",
    "# The 5% value-at-risk\n",
    "ans = W0*norm.ppf(0.05, mu_R, sigma_R)\n",
    "print(\"The 5% value-at-risk: \", ans)"
   ]
  },
  {
   "cell_type": "markdown",
   "metadata": {
    "collapsed": true
   },
   "source": [
    "# Determine the value-at-risk of continuously compounded monthly returns"
   ]
  },
  {
   "cell_type": "code",
   "execution_count": 43,
   "metadata": {},
   "outputs": [
    {
     "name": "stdout",
     "output_type": "stream",
     "text": [
      "The 1% value-at-risk:  -15580.4611877\n",
      "The 5% value-at-risk:  -10240.5459377\n"
     ]
    }
   ],
   "source": [
    "# r ~ N(0.04, (0.09)^2) \n",
    "mu_r = 0.04\n",
    "sigma_r = 0.09\n",
    "# Initial wealth W0 = $100,000\n",
    "W0 = 100000\n",
    "# The 1% value-at-risk\n",
    "ans=W0*np.exp(norm.ppf(0.01, mu_r, sigma_r))-W0\n",
    "print(\"The 1% value-at-risk: \", ans)\n",
    "# The 5% value-at-risk\n",
    "ans=W0*np.exp(norm.ppf(0.05, mu_r, sigma_r))-W0\n",
    "print(\"The 5% value-at-risk: \", ans)"
   ]
  },
  {
   "cell_type": "markdown",
   "metadata": {
    "collapsed": true
   },
   "source": [
    "# Compute simple monthly returns"
   ]
  },
  {
   "cell_type": "code",
   "execution_count": 47,
   "metadata": {},
   "outputs": [
    {
     "name": "stdout",
     "output_type": "stream",
     "text": [
      "0.08004185194873142 0.015324738506446183\n"
     ]
    }
   ],
   "source": [
    "# Vectors of prices\n",
    "PA = (38.23, 41.29)\n",
    "PC = (41.11, 41.74)\n",
    "\n",
    "# Simple monthly returns\n",
    "RA = (PA[1]-PA[0])/PA[0]\n",
    "RC = (PC[1]-PC[0])/PC[0]\n",
    "\n",
    "print(RA, RC)"
   ]
  },
  {
   "cell_type": "markdown",
   "metadata": {
    "collapsed": true
   },
   "source": [
    "# Compute continuously compounded monthly returns"
   ]
  },
  {
   "cell_type": "code",
   "execution_count": 52,
   "metadata": {},
   "outputs": [
    {
     "name": "stdout",
     "output_type": "stream",
     "text": [
      "0.0769997921897 0.0152085007393\n"
     ]
    }
   ],
   "source": [
    "# Continuously compounded returns\n",
    "rA = np.log(1+RA)\n",
    "rC = np.log(1+RC)\n",
    "\n",
    "print(rA, rC)"
   ]
  },
  {
   "cell_type": "markdown",
   "metadata": {
    "collapsed": true
   },
   "source": [
    "# Compute simple total returns and dividend yields"
   ]
  },
  {
   "cell_type": "code",
   "execution_count": 55,
   "metadata": {},
   "outputs": [
    {
     "name": "stdout",
     "output_type": "stream",
     "text": [
      "0.08265759874444165 0.0026157467957101757\n"
     ]
    }
   ],
   "source": [
    "# Cash dividend per share\n",
    "DA = 0.1\n",
    "# Simple total return\n",
    "RA_total = (DA+PA[1]-PA[0])/PA[0]\n",
    "# Dividend yield\n",
    "DY = DA/PA[0]\n",
    "\n",
    "print(RA_total, DY)"
   ]
  },
  {
   "cell_type": "markdown",
   "metadata": {
    "collapsed": true
   },
   "source": [
    "# Compute annual returns"
   ]
  },
  {
   "cell_type": "code",
   "execution_count": 59,
   "metadata": {},
   "outputs": [
    {
     "name": "stdout",
     "output_type": "stream",
     "text": [
      "1.5193413700621674 0.923997506276\n"
     ]
    }
   ],
   "source": [
    "# Simple annual return\n",
    "RA_annual = (1+RA)**12-1\n",
    "# Continuously compounded annual return\n",
    "rA_annual = np.log(1+RA_annual)\n",
    "\n",
    "print(RA_annual, rA_annual)"
   ]
  },
  {
   "cell_type": "markdown",
   "metadata": {
    "collapsed": true
   },
   "source": [
    "# Compute portfolio shares and portfolio returns"
   ]
  },
  {
   "cell_type": "code",
   "execution_count": 61,
   "metadata": {},
   "outputs": [
    {
     "name": "stdout",
     "output_type": "stream",
     "text": [
      "0.06709842926027454\n"
     ]
    }
   ],
   "source": [
    "# Portfolio shares\n",
    "xA = 0.8\n",
    "xC = 0.2\n",
    "\n",
    "# Simple monthly return\n",
    "ans=(xA*(1+RA)+xC*(1+RC)-1)\n",
    "print(ans)"
   ]
  },
  {
   "cell_type": "code",
   "execution_count": null,
   "metadata": {
    "collapsed": true
   },
   "outputs": [],
   "source": []
  }
 ],
 "metadata": {
  "kernelspec": {
   "display_name": "Python 3",
   "language": "python",
   "name": "python3"
  },
  "language_info": {
   "codemirror_mode": {
    "name": "ipython",
    "version": 3
   },
   "file_extension": ".py",
   "mimetype": "text/x-python",
   "name": "python",
   "nbconvert_exporter": "python",
   "pygments_lexer": "ipython3",
   "version": "3.5.2"
  }
 },
 "nbformat": 4,
 "nbformat_minor": 2
}
